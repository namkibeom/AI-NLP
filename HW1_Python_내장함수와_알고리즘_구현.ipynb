{
  "nbformat": 4,
  "nbformat_minor": 0,
  "metadata": {
    "orig_nbformat": 4,
    "language_info": {
      "name": "python",
      "version": "3.7.7",
      "mimetype": "text/x-python",
      "codemirror_mode": {
        "name": "ipython",
        "version": 3
      },
      "pygments_lexer": "ipython3",
      "nbconvert_exporter": "python",
      "file_extension": ".py"
    },
    "kernelspec": {
      "name": "python3",
      "display_name": "Python 3.7.7 64-bit ('NLPassn': conda)"
    },
    "interpreter": {
      "hash": "ade55d4c86be7d50874b83e4277b883dd708f548765dc318ed8eee76ae3e5626"
    },
    "colab": {
      "provenance": [],
      "collapsed_sections": [],
      "include_colab_link": true
    }
  },
  "cells": [
    {
      "cell_type": "markdown",
      "metadata": {
        "id": "view-in-github",
        "colab_type": "text"
      },
      "source": [
        "<a href=\"https://colab.research.google.com/github/namkibeom/AI-NLP/blob/main/HW1_Python_%EB%82%B4%EC%9E%A5%ED%95%A8%EC%88%98%EC%99%80_%EC%95%8C%EA%B3%A0%EB%A6%AC%EC%A6%98_%EA%B5%AC%ED%98%84.ipynb\" target=\"_parent\"><img src=\"https://colab.research.google.com/assets/colab-badge.svg\" alt=\"Open In Colab\"/></a>"
      ]
    },
    {
      "cell_type": "markdown",
      "metadata": {
        "id": "lh1cyX2mj_4V"
      },
      "source": [
        "# 과제 1. 나만의 python & 알고리즘 함수 만들기\n",
        "## 1. 파이썬 내장함수 만들기\n",
        "Python에는 사용자의 편의를 위해서 여러가지 함수를 내장하고 있다. 다음 사진이 python 내장함수의 목록을 보여준다.\n",
        "\n",
        "<p align=\"center\"><img src=\"https://wikidocs.net/images/page/14598/2-1.png\" width=\"600px\"></p>\n",
        "\n",
        "자세한 내용은 [링크](https://docs.python.org/ko/3/library/functions.html)에서 확인해 볼 수 있으며, 문서 안에서 몇 가지 예시를 제시하고 있다. 다음은 python 공식 문서에서 제시하는 `all` 함수의 예시를 `my_all` 함수로 재작성한 예시이다."
      ]
    },
    {
      "cell_type": "code",
      "metadata": {
        "id": "KtICkC5sj_4X",
        "outputId": "f2bdcfd7-57ff-4bef-a5c2-dfc639a418ca",
        "colab": {
          "base_uri": "https://localhost:8080/"
        }
      },
      "source": [
        "def my_all(iterable):\n",
        "    for element in iterable:\n",
        "        if not element:\n",
        "            return False\n",
        "    return True\n",
        "\n",
        "test1 = [True, 7 == 4, 3 > 7, False]\n",
        "test2 = [3 < 5, 10 == 10, True, 'something']\n",
        "\n",
        "# Assert 문은 이하의 식의 참인지 검사합니다.\n",
        "assert all(test1) == my_all(test1) == False\n",
        "assert all(test2) == my_all(test2) == True\n",
        "\n",
        "print(\"통과\")"
      ],
      "execution_count": 2,
      "outputs": [
        {
          "output_type": "stream",
          "name": "stdout",
          "text": [
            "통과\n"
          ]
        }
      ]
    },
    {
      "cell_type": "markdown",
      "metadata": {
        "id": "Z6GUKRRQj_4Z"
      },
      "source": [
        "아래의 함수들은 자주 사용되는 내장 함수들의 목록이다. 위의 코드 예시와 같이 몇 가지 함수들을 내장 함수를 쓰지 않고 따라 만들어보자. \\\n",
        "(단, int 같은 형변환 내장 함수 및 iter, next 같은 이 파일에서 재구현 되지 않는 내장 함수는 사용 가능하며, 편의를 위해 엄격하게 만들지 않고 test를 통과할 정도만 작성하여도 무방하다.)"
      ]
    },
    {
      "cell_type": "markdown",
      "metadata": {
        "id": "UrC-IOlfj_4Z"
      },
      "source": [
        "### 1-1. abs"
      ]
    },
    {
      "cell_type": "code",
      "metadata": {
        "id": "RCpeIZx8j_4a",
        "colab": {
          "base_uri": "https://localhost:8080/"
        },
        "outputId": "00a3b126-ce77-4922-fd55-d92ed1fd7479"
      },
      "source": [
        "def my_abs(number):\n",
        "  if number >= 0:\n",
        "    return number\n",
        "  else:\n",
        "    return -number\n",
        "\n",
        "test1 = 1.7\n",
        "test2 = -8\n",
        "assert abs(test1) == my_abs(test1)\n",
        "assert abs(test2) == my_abs(test2)\n",
        "print(\"통과\")"
      ],
      "execution_count": 6,
      "outputs": [
        {
          "output_type": "stream",
          "name": "stdout",
          "text": [
            "통과\n"
          ]
        }
      ]
    },
    {
      "cell_type": "markdown",
      "metadata": {
        "id": "sBqLryIxj_4a"
      },
      "source": [
        "### 1-2. round"
      ]
    },
    {
      "cell_type": "code",
      "metadata": {
        "id": "xaEfCMwmj_4a",
        "colab": {
          "base_uri": "https://localhost:8080/"
        },
        "outputId": "77d40a45-09ae-44e1-828c-e9f69c923460"
      },
      "source": [
        "def my_round(number, ndgits=None):\n",
        "  if ndgits is None:\t#값 없을 시 0 초기화\n",
        "    ndgits = 0\n",
        "    \n",
        "  mult = 10 ** (ndgits + 1)\t# 소수점 자리 옮기기 위해 생성(10의 n승을 구함)\n",
        "  eff = int(number * mult)\t# 소수점 자리 버림\n",
        "\n",
        "  if eff % 10 >=5:\t# %연산으로 끝자리만 남긴 후 올림/내림 여부 판단\n",
        "    eff += (10-eff%10)\n",
        "  else:\n",
        "    eff -= eff%10\n",
        "  \n",
        "  number = eff /mult # 원래의 소수점 자리로 돌려놓기\n",
        "\n",
        "  return number\n",
        "\n",
        "test = 1.74789\n",
        "assert round(test) == my_round(test)\n",
        "assert round(-test) == my_round(-test)\n",
        "assert round(test, 3) == my_round(test, 3)\n",
        "assert round(-test, 2) == my_round(-test, 2)\n",
        "print(\"통과\")"
      ],
      "execution_count": 7,
      "outputs": [
        {
          "output_type": "stream",
          "name": "stdout",
          "text": [
            "통과\n"
          ]
        }
      ]
    },
    {
      "cell_type": "markdown",
      "metadata": {
        "id": "PTJk84oPj_4b"
      },
      "source": [
        "### 1-3. any"
      ]
    },
    {
      "cell_type": "code",
      "metadata": {
        "id": "bnBMZp3qj_4b",
        "colab": {
          "base_uri": "https://localhost:8080/"
        },
        "outputId": "22120e51-0957-4996-f120-af7ed1d75e2d"
      },
      "source": [
        "def my_any(iterable):\n",
        "  for element in iterable:\n",
        "    if element:\n",
        "      return True\n",
        "  return False\n",
        "\n",
        "test1 = [True, 7 == 4, 'Something', False]\n",
        "test2 = [3 > 5, 10 != 10, False, '', None]\n",
        "assert any(test1) == my_any(test1)\n",
        "assert any(test2) == my_any(test2)\n",
        "print(\"통과\")"
      ],
      "execution_count": 10,
      "outputs": [
        {
          "output_type": "stream",
          "name": "stdout",
          "text": [
            "통과\n"
          ]
        }
      ]
    },
    {
      "cell_type": "markdown",
      "metadata": {
        "id": "r1a2t34Sj_4b"
      },
      "source": [
        "### 1-4. enumerate"
      ]
    },
    {
      "cell_type": "code",
      "metadata": {
        "id": "Eb3wJhDJj_4c",
        "colab": {
          "base_uri": "https://localhost:8080/"
        },
        "outputId": "c50b5a37-bf1a-4ef2-9f41-8ac9c33b85c3"
      },
      "source": [
        "def my_enumerate(sequence, start=0):\n",
        "    for ele in sequence:\n",
        "        yield (start, ele)\n",
        "        start += 1\n",
        "\n",
        "test1 = [60, 50, 20, 10]\n",
        "test2 = [True, None, 'test']\n",
        "assert list(enumerate(test1)) == list(my_enumerate(test1))\n",
        "assert list(enumerate(test2, 12)) == list(my_enumerate(test2, 12))\n",
        "print(\"통과\")"
      ],
      "execution_count": 26,
      "outputs": [
        {
          "output_type": "stream",
          "name": "stdout",
          "text": [
            "통과\n"
          ]
        }
      ]
    },
    {
      "cell_type": "markdown",
      "metadata": {
        "id": "6GhbhgNsj_4c"
      },
      "source": [
        "### 1-5. max & min"
      ]
    },
    {
      "cell_type": "code",
      "metadata": {
        "id": "CPb7b92Fj_4c",
        "colab": {
          "base_uri": "https://localhost:8080/"
        },
        "outputId": "d84d5509-6f2d-405d-8fe6-6e6f9976f151"
      },
      "source": [
        "def my_max(*args):\n",
        "    if len(args) == 1:\n",
        "        args = args[0]\n",
        "\n",
        "    mxv = - 10 ** 9\n",
        "    for ele in args:\n",
        "        if ele > mxv:\n",
        "            mxv = ele\n",
        "    return mxv\n",
        "\n",
        "def my_min(*args):\n",
        "    if len(args) == 1:\n",
        "        args = args[0]\n",
        "\n",
        "    mnv = 10 ** 9\n",
        "    for ele in args:\n",
        "        if ele < mnv:\n",
        "            mnv = ele\n",
        "    return mnv\n",
        "\n",
        "test = [7, 4, 2, 6, 8]\n",
        "assert max(test) == my_max(test) and min(test) == my_min(test)\n",
        "assert max(7, 4, 2, 5) == my_max(7, 4, 2, 5) and min(7, 4, 2, 5) == my_min(7, 4, 2, 5)\n",
        "print(\"통과\")"
      ],
      "execution_count": 29,
      "outputs": [
        {
          "output_type": "stream",
          "name": "stdout",
          "text": [
            "통과\n"
          ]
        }
      ]
    },
    {
      "cell_type": "markdown",
      "metadata": {
        "id": "LYJx5t63j_4c"
      },
      "source": [
        "### 1-6. range\n",
        "실제론 함수가 아니지만 함수 같이 만들어보자."
      ]
    },
    {
      "cell_type": "code",
      "metadata": {
        "id": "z5liW1V-j_4d",
        "colab": {
          "base_uri": "https://localhost:8080/"
        },
        "outputId": "810a45fd-65b1-4b78-8700-a7c6b15314b4"
      },
      "source": [
        "def my_range(*args):\n",
        "    # print(args)\n",
        "    if len(args) == 1:\n",
        "        it = 0\n",
        "        while it < args[0]:\n",
        "            yield it\n",
        "            it += 1\n",
        "\n",
        "    if len(args) == 2:\n",
        "        s = args[0]\n",
        "        e = args[1]\n",
        "        while s < e:\n",
        "            yield s\n",
        "            s += 1\n",
        "\n",
        "    if len(args) == 3:\n",
        "        s = args[0]\n",
        "        e = args[1]\n",
        "        diff = args[2]\n",
        "        if diff > 0:\n",
        "            while s < e:\n",
        "                yield s\n",
        "                s += diff\n",
        "        elif diff < 0:\n",
        "            while s > e:\n",
        "                yield s\n",
        "                s += diff\n",
        "\n",
        "assert list(range(10)) == list(my_range(10))\n",
        "assert list(range(3, 10)) == list(my_range(3, 10))\n",
        "assert list(range(3, 10, 2)) == list(my_range(3, 10, 2))\n",
        "assert list(range(10, 3, -2)) == list(my_range(10, 3, -2))\n",
        "print(\"통과\")"
      ],
      "execution_count": 122,
      "outputs": [
        {
          "output_type": "stream",
          "name": "stdout",
          "text": [
            "통과\n"
          ]
        }
      ]
    },
    {
      "cell_type": "markdown",
      "metadata": {
        "id": "Ki0TIFGij_4d"
      },
      "source": [
        "### 1-7. reversed"
      ]
    },
    {
      "cell_type": "code",
      "metadata": {
        "id": "omq-iRJsj_4d",
        "colab": {
          "base_uri": "https://localhost:8080/"
        },
        "outputId": "20bf7272-1405-4434-91dd-e2ddba945484"
      },
      "source": [
        "def my_reversed(seq):\n",
        "    return seq[::-1]\n",
        "    \n",
        "test = [7, 4, 2, 6, 8]\n",
        "assert list(reversed(test)) == list(my_reversed(test))\n",
        "print(\"통과\")"
      ],
      "execution_count": 35,
      "outputs": [
        {
          "output_type": "stream",
          "name": "stdout",
          "text": [
            "통과\n"
          ]
        }
      ]
    },
    {
      "cell_type": "markdown",
      "metadata": {
        "id": "EO1bxjI2j_4d"
      },
      "source": [
        "### 1-8. filter"
      ]
    },
    {
      "cell_type": "code",
      "metadata": {
        "id": "TN6rpi9bj_4d",
        "colab": {
          "base_uri": "https://localhost:8080/"
        },
        "outputId": "1cf4161b-bce7-4945-f421-931ff1a819e0"
      },
      "source": [
        "def my_filter(function, iterable):\n",
        "    for ele in iterable:\n",
        "        if function(ele):\n",
        "            yield ele\n",
        "\n",
        "\n",
        "def test_function(number):\n",
        "    return number > 5\n",
        "test = [1, 7, 5, 2, 9, 11]\n",
        "\n",
        "# 역슬래시 \"\\\"를 이용하면 평가식을 다음 줄로 나눌 수 있다.\n",
        "assert list(filter(test_function, test)) == list(my_filter(test_function, test)) \\\n",
        "    == list(filter(lambda x: x > 5, test))\n",
        "print(\"통과\")"
      ],
      "execution_count": 58,
      "outputs": [
        {
          "output_type": "stream",
          "name": "stdout",
          "text": [
            "통과\n"
          ]
        }
      ]
    },
    {
      "cell_type": "markdown",
      "metadata": {
        "id": "heIN6IBLxP9d"
      },
      "source": [
        "### 1-9. map"
      ]
    },
    {
      "cell_type": "code",
      "metadata": {
        "id": "748JDhTWxPqz",
        "colab": {
          "base_uri": "https://localhost:8080/"
        },
        "outputId": "5200f219-8876-4b3a-d185-fb332c7c1a42"
      },
      "source": [
        "def my_map(function, iterable):\n",
        "    for ele in iterable:\n",
        "      yield function(ele)\n",
        "\n",
        "def test_function(number):\n",
        "    return number * 2\n",
        "test = [1, 7, 5, 2, 9, 11]\n",
        "\n",
        "assert list(map(test_function, test)) == list(my_map(test_function, test)) \\\n",
        "    == list(map(lambda x: x * 2, test))\n",
        "print(\"통과\")"
      ],
      "execution_count": 50,
      "outputs": [
        {
          "output_type": "stream",
          "name": "stdout",
          "text": [
            "통과\n"
          ]
        }
      ]
    },
    {
      "cell_type": "markdown",
      "metadata": {
        "id": "TFRcIgaej_4e"
      },
      "source": [
        "### 1-10. sum"
      ]
    },
    {
      "cell_type": "code",
      "metadata": {
        "id": "OBMnyE-Jj_4e",
        "colab": {
          "base_uri": "https://localhost:8080/"
        },
        "outputId": "5f04ad72-3eac-4cf3-eec9-f3baa15fb2fc"
      },
      "source": [
        "def my_sum(iterable, start=0):\n",
        "  tot = 0\n",
        "  for ele in iterable:\n",
        "    if type(ele)== list :\n",
        "      tot = []\n",
        "      for ele in iterable:\n",
        "        tot += ele\n",
        "      return(tot) \n",
        "    if type(ele)== int :\n",
        "      tot += ele\n",
        "  return(tot) \n",
        "\n",
        "test = [7, 4, 2, 6, 8]\n",
        "assert sum(test) == my_sum(test)\n",
        "assert sum(range(10)) == my_sum(my_range(10))\n",
        "assert sum(filter(lambda x: x % 2, range(1, 20, 3))) \\\n",
        "    == my_sum(my_filter(lambda x: x % 2, my_range(1, 20, 3)))\n",
        "\n",
        "start = []\n",
        "assert my_sum([[1, 2, 3], [5, 6, 7], [8, 9, 10]], start) \\\n",
        "    == sum([[1, 2, 3], [5, 6, 7], [8, 9, 10]], start) \n",
        "print(\"통과\")"
      ],
      "execution_count": 168,
      "outputs": [
        {
          "output_type": "stream",
          "name": "stdout",
          "text": [
            "통과\n"
          ]
        }
      ]
    },
    {
      "cell_type": "code",
      "source": [
        "def my_sum(iterable, start=0):\n",
        "    aggregated = type(start)(start)\n",
        "    for elem in iterable:\n",
        "        aggregated += elem\n",
        "    return aggregated\n",
        "\n",
        "\n",
        "test = [7, 4, 2, 6, 8]\n",
        "assert sum(test) == my_sum(test)\n",
        "assert sum(range(10)) == my_sum(my_range(10))\n",
        "assert sum(filter(lambda x: x % 2, range(1, 20, 3))) \\\n",
        "    == my_sum(my_filter(lambda x: x % 2, my_range(1, 20, 3)))\n",
        "\n",
        "start = []\n",
        "assert my_sum([[1, 2, 3], [5, 6, 7], [8, 9, 10]], start) \\\n",
        "    == sum([[1, 2, 3], [5, 6, 7], [8, 9, 10]], start) \n",
        "print(\"통과\")"
      ],
      "metadata": {
        "colab": {
          "base_uri": "https://localhost:8080/"
        },
        "id": "qY1DRUPUVHbe",
        "outputId": "6ebe802c-c219-4f07-e6ef-d9aa9b8808d0"
      },
      "execution_count": 198,
      "outputs": [
        {
          "output_type": "stream",
          "name": "stdout",
          "text": [
            "통과\n"
          ]
        }
      ]
    },
    {
      "cell_type": "markdown",
      "metadata": {
        "id": "ECrWOlnjj_4e"
      },
      "source": [
        "### 1-11. zip"
      ]
    },
    {
      "cell_type": "code",
      "source": [
        "def my_zip(*iterables):\n",
        "    iterators = list(map(iter, iterables))\n",
        "    while True:\n",
        "        output = tuple(map(next, iterators))\n",
        "        if len(iterators) != len(output):\n",
        "            break\n",
        "        print(output)\n",
        "        yield output\n",
        "\n",
        "test1 = (1, 2, 3, 4)\n",
        "test2 = (10, 2, 30)\n",
        "assert list(zip(test1, test2)) == list(my_zip(test1, test2))\n",
        "\n",
        "test3 = [(10, 20, 30, 40), (55, 22, 66, 70), (False, True, True, False)]\n",
        "assert list(zip(*test3)) == list(my_zip(*test3))\n",
        "print(\"통과\")"
      ],
      "metadata": {
        "colab": {
          "base_uri": "https://localhost:8080/"
        },
        "id": "J5dkNeCfVk46",
        "outputId": "1006ca5a-56a1-487f-8471-c00afa11228a"
      },
      "execution_count": 256,
      "outputs": [
        {
          "output_type": "stream",
          "name": "stdout",
          "text": [
            "(1, 10)\n",
            "(2, 2)\n",
            "(3, 30)\n",
            "(10, 55, False)\n",
            "(20, 22, True)\n",
            "(30, 66, True)\n",
            "(40, 70, False)\n",
            "통과\n"
          ]
        }
      ]
    },
    {
      "cell_type": "code",
      "source": [
        "list(my_zip(test1, test2))"
      ],
      "metadata": {
        "colab": {
          "base_uri": "https://localhost:8080/"
        },
        "id": "kfKmIiEQgV8t",
        "outputId": "3fa7591a-ca58-4e49-8726-37e6bd378f57"
      },
      "execution_count": 240,
      "outputs": [
        {
          "output_type": "execute_result",
          "data": {
            "text/plain": [
              "[(1, 10), (2, 2), (3, 30)]"
            ]
          },
          "metadata": {},
          "execution_count": 240
        }
      ]
    },
    {
      "cell_type": "markdown",
      "metadata": {
        "id": "Gm9742vej_4e"
      },
      "source": [
        "### 1-12. sorted\n",
        "정렬 알고리즘은 어떠한 것을 써도 무방하다.\n",
        "O(N^2) 시간복잡도의 쉬운 정렬 알고리즘으로 일반적으로 [삽입정렬](https://ko.wikipedia.org/wiki/%EC%82%BD%EC%9E%85_%EC%A0%95%EB%A0%AC), [선택정렬](https://ko.wikipedia.org/wiki/%EC%84%A0%ED%83%9D_%EC%A0%95%EB%A0%AC), 그리고 [버블정렬](https://ko.wikipedia.org/wiki/%EA%B1%B0%ED%92%88_%EC%A0%95%EB%A0%AC)을 꼽는다.\n",
        "O(N log N) 시간복잡도의 더 빠른 정렬 프로그램을 만들고 싶다면 [퀵정렬](https://ko.wikipedia.org/wiki/%ED%80%B5_%EC%A0%95%EB%A0%AC)이나 [합병정렬](https://ko.wikipedia.org/wiki/%ED%95%A9%EB%B3%91_%EC%A0%95%EB%A0%AC)을 구현해보자."
      ]
    },
    {
      "cell_type": "code",
      "metadata": {
        "id": "h3fKPQodj_4f",
        "colab": {
          "base_uri": "https://localhost:8080/"
        },
        "outputId": "4ef2f9a4-f59f-4a5f-b924-3e59ce2173b5"
      },
      "source": [
        "def neg(obj):\n",
        "    if type(obj) == int:\n",
        "        return - obj\n",
        "    else:\n",
        "        ret = []\n",
        "        for ele in obj:\n",
        "            ret.append(-ele)\n",
        "        return tuple(ret)\n",
        "\n",
        "\n",
        "def nothing(num):\n",
        "    return num\n",
        "\n",
        "\n",
        "def my_sorted(iterable, key=None, reverse=False):\n",
        "    fun = nothing\n",
        "    if key:\n",
        "        fun = key\n",
        "    if reverse:\n",
        "        iterable = list(map(neg, iterable))\n",
        "\n",
        "    # 버블 소트\n",
        "    p = 1\n",
        "    while p != len(iterable):\n",
        "        for i in range(len(iterable) - p):\n",
        "            if fun(iterable[i]) > fun(iterable[i + 1]):\n",
        "                iterable[i], iterable[i + 1] = iterable[i + 1], iterable[i]\n",
        "        p += 1\n",
        "\n",
        "    if reverse:\n",
        "        iterable = list(map(neg, iterable))\n",
        "\n",
        "    return iterable\n",
        "\n",
        "\n",
        "test1 = [7, 4, 2, 6, 8]\n",
        "assert sorted(test1) == my_sorted(test1)\n",
        "test2 = [(1, 2), (6, 2), (5, 3), (10, 5)]\n",
        "assert sorted(test2) == my_sorted(test2) \\\n",
        "   and sorted(test2, reverse=True) == my_sorted(test2, reverse=True) \\\n",
        "   and sorted(test2, key=lambda x: x[1]) == my_sorted(test2, key=lambda x: x[1])\n",
        "print(\"통과\")"
      ],
      "execution_count": 227,
      "outputs": [
        {
          "output_type": "stream",
          "name": "stdout",
          "text": [
            "통과\n"
          ]
        }
      ]
    },
    {
      "cell_type": "markdown",
      "metadata": {
        "id": "FgiQdO2Gj_4f"
      },
      "source": [
        "## 2. 알고리즘 함수 만들기\n",
        "몇 가지 간단한 알고리즘 함수를 만들어보자.\n",
        "\n",
        "### 2-1. 피보나치 수열 만들기\n",
        "숫자 $N$가 주어졌을때,다피보나치 길이 $N$의 피보나치 수열을 생성하는 함수를 작성해보자. 시작은 1부터다."
      ]
    },
    {
      "cell_type": "code",
      "metadata": {
        "id": "SathO3raj_4f",
        "colab": {
          "base_uri": "https://localhost:8080/"
        },
        "outputId": "a80dea36-1194-48de-b0c4-e444f9d8c4af"
      },
      "source": [
        "def fibonacci(number):\n",
        "    yield 1\n",
        "    if number == 0:\n",
        "        return\n",
        "\n",
        "    prev, now = 1, 1\n",
        "    for _ in range(1, number):\n",
        "        yield now\n",
        "        now, prev = now + prev, now\n",
        "\n",
        "assert list(fibonacci(10)) == [1, 1, 2, 3, 5, 8, 13, 21, 34, 55]\n",
        "assert sum(fibonacci(5)) == 12\n",
        "print(\"통과\") "
      ],
      "execution_count": 228,
      "outputs": [
        {
          "output_type": "stream",
          "name": "stdout",
          "text": [
            "통과\n"
          ]
        }
      ]
    },
    {
      "cell_type": "markdown",
      "metadata": {
        "id": "qbdm9l5pj_4f"
      },
      "source": [
        "### 2-2. 순열 만들기\n",
        "수열 $S$가 주어졌을때 그 안에서 $N$를 뽑아 순열을 만드는 함수를 작성해보자. 순서는 상관없다. \\\n",
        "(힌트: 재귀 함수를 써보자)"
      ]
    },
    {
      "cell_type": "code",
      "metadata": {
        "id": "r9qXLBcXj_4f",
        "colab": {
          "base_uri": "https://localhost:8080/"
        },
        "outputId": "dd711acd-e755-459b-9817-82dd96bb9999"
      },
      "source": [
        "def my_permutations(seq, number):\n",
        "    if number == 1:\n",
        "        return ((elem,) for elem in seq)\n",
        "\n",
        "    return (\n",
        "        entry + (seq[i],) \n",
        "        for i in range(len(seq))\n",
        "        for entry in my_permutations(seq[:i] + seq[i+1:], number - 1)\n",
        "    )\n",
        "\n",
        "from itertools import permutations\n",
        "test = [1, 2, 3, 4]\n",
        "\n",
        "assert set(permutations(test, 2)) == set(my_permutations(test, 2)) \\\n",
        "   and set(permutations(test, 3)) == set(my_permutations(test, 3))\n",
        "print(\"통과\") "
      ],
      "execution_count": 229,
      "outputs": [
        {
          "output_type": "stream",
          "name": "stdout",
          "text": [
            "통과\n"
          ]
        }
      ]
    },
    {
      "cell_type": "markdown",
      "metadata": {
        "id": "laEqDZNsj_4g"
      },
      "source": [
        "### 2-3. 조합 만들기\n",
        "수열 $S$가 주어졌을때 그 안에서 $N$를 뽑아 조합을 만드는 함수를 작성해보자. 순서는 상관없다. \\\n",
        "(힌트: 재귀 함수를 써보자)"
      ]
    },
    {
      "cell_type": "code",
      "metadata": {
        "id": "CJer6T7Nj_4g",
        "colab": {
          "base_uri": "https://localhost:8080/"
        },
        "outputId": "4779dd73-a6dd-4d13-a83b-61c211a18cda"
      },
      "source": [
        "def my_combinations(seq, number):\n",
        "    if number == 1:\n",
        "        return ((elem,) for elem in seq)\n",
        "\n",
        "    return (\n",
        "        entry + (seq[i],) \n",
        "        for i in range(len(seq))\n",
        "        for entry in my_combinations(seq[:i], number - 1)\n",
        "    )\n",
        "\n",
        "from itertools import combinations\n",
        "test = [1, 2, 3, 4]\n",
        "\n",
        "assert set(combinations(test, 2)) == set(my_combinations(test, 2)) \\\n",
        "   and set(combinations(test, 3)) == set(my_combinations(test, 3))\n",
        "print(\"통과\") "
      ],
      "execution_count": 230,
      "outputs": [
        {
          "output_type": "stream",
          "name": "stdout",
          "text": [
            "통과\n"
          ]
        }
      ]
    }
  ]
}